{
 "cells": [
  {
   "cell_type": "code",
   "execution_count": 1,
   "id": "15aab98d",
   "metadata": {},
   "outputs": [],
   "source": [
    "from numpy import genfromtxt \n",
    "import pandas as pd\n",
    "import numpy as np\n",
    "from matplotlib import pyplot as plt\n",
    "%matplotlib inline\n",
    "from sklearn.metrics import r2_score\n",
    "import math"
   ]
  },
  {
   "cell_type": "code",
   "execution_count": 2,
   "id": "f1e5a81c",
   "metadata": {},
   "outputs": [],
   "source": [
    "df1 = genfromtxt(\"MultipleLR.csv - MultipleLR.csv.csv\",delimiter=',')"
   ]
  },
  {
   "cell_type": "code",
   "execution_count": 3,
   "id": "3a3e254e",
   "metadata": {},
   "outputs": [
    {
     "data": {
      "text/plain": [
       "(25, 4)"
      ]
     },
     "execution_count": 3,
     "metadata": {},
     "output_type": "execute_result"
    }
   ],
   "source": [
    "df1.shape"
   ]
  },
  {
   "cell_type": "code",
   "execution_count": 4,
   "id": "81af38f9",
   "metadata": {},
   "outputs": [],
   "source": [
    "#x = df1.iloc[:, df1.shape[0]].values #Feature matrix\n",
    "#y = df1.iloc[:, df1.shape[1]].values #Criterion Matrix  #---->if i want to separate from a data set"
   ]
  },
  {
   "cell_type": "code",
   "execution_count": 5,
   "id": "f321761b",
   "metadata": {},
   "outputs": [],
   "source": [
    "x_0= (len(df1),1)\n",
    "x_00=np.ones(x_0)"
   ]
  },
  {
   "cell_type": "code",
   "execution_count": 6,
   "id": "77fc6235",
   "metadata": {},
   "outputs": [],
   "source": [
    "data= np.concatenate((x_00,df1), axis=1)"
   ]
  },
  {
   "cell_type": "code",
   "execution_count": 7,
   "id": "c363268d",
   "metadata": {},
   "outputs": [
    {
     "data": {
      "text/plain": [
       "(25, 5)"
      ]
     },
     "execution_count": 7,
     "metadata": {},
     "output_type": "execute_result"
    }
   ],
   "source": [
    "data.shape"
   ]
  },
  {
   "cell_type": "code",
   "execution_count": 8,
   "id": "dc5b74fe",
   "metadata": {},
   "outputs": [],
   "source": [
    "X_used=data[::,:(np.shape(data)[1])-1]\n",
    "y_used=data[:,[(np.shape(data)[1])-1]]"
   ]
  },
  {
   "cell_type": "code",
   "execution_count": 9,
   "id": "f247e9dc",
   "metadata": {},
   "outputs": [
    {
     "data": {
      "text/plain": [
       "((25, 4), (25, 1))"
      ]
     },
     "execution_count": 9,
     "metadata": {},
     "output_type": "execute_result"
    }
   ],
   "source": [
    "X_used.shape,y_used.shape"
   ]
  },
  {
   "cell_type": "markdown",
   "id": "ad4cbf02",
   "metadata": {},
   "source": [
    "# Batch gradient descent(multi variable)"
   ]
  },
  {
   "cell_type": "code",
   "execution_count": 10,
   "id": "c842e588",
   "metadata": {},
   "outputs": [],
   "source": [
    "def Multi_batch_gradient_descent(df, epochs, learning_rate):\n",
    "    X_updated=X_used.shape[1]\n",
    "    theta=np.zeros((X_updated,1))\n",
    "    #learning_parameter=0.001\n",
    "    theta_arr=[]\n",
    "    hyp=[]\n",
    "    losses=[]\n",
    "    iter_list=[]\n",
    "    #iterations=1000\n",
    "    for i in range(epochs):\n",
    "        hypothesis_fn=X_used@theta\n",
    "        hyp.append(hypothesis_fn)\n",
    "        error=hypothesis_fn-y_used\n",
    "        loss_fn=np.dot(np.transpose(error),error)*1/(2*len(X_used))\n",
    "        losses.append(loss_fn[0,0])\n",
    "        gradient=(X_used.T@error)*(1/len(X_used))\n",
    "        theta=theta-(learning_rate*gradient)\n",
    "        theta_arr.append(theta) \n",
    "        iter_list.append(i)\n",
    "    return theta,iter_list,losses,hypothesis_fn,y_used"
   ]
  },
  {
   "cell_type": "code",
   "execution_count": 11,
   "id": "87941639",
   "metadata": {},
   "outputs": [],
   "source": [
    "theta,iter_list,losses,hypothesis_fn,y_used=Multi_batch_gradient_descent(df1,1000,0.0001)"
   ]
  },
  {
   "cell_type": "code",
   "execution_count": 12,
   "id": "7d66f8d1",
   "metadata": {},
   "outputs": [
    {
     "data": {
      "text/plain": [
       "array([[0.00289951],\n",
       "       [0.44203697],\n",
       "       [0.51777825],\n",
       "       [1.05569807]])"
      ]
     },
     "execution_count": 12,
     "metadata": {},
     "output_type": "execute_result"
    }
   ],
   "source": [
    "theta"
   ]
  },
  {
   "cell_type": "code",
   "execution_count": 13,
   "id": "fb105953",
   "metadata": {},
   "outputs": [],
   "source": [
    "#theta = np.dot(np.linalg.inv(np.dot(X_used.T,X_used)),np.dot(X_used.T,y_used))"
   ]
  },
  {
   "cell_type": "code",
   "execution_count": 14,
   "id": "826033a5",
   "metadata": {},
   "outputs": [
    {
     "data": {
      "text/plain": [
       "0.9886840848834451"
      ]
     },
     "execution_count": 14,
     "metadata": {},
     "output_type": "execute_result"
    }
   ],
   "source": [
    "b=r2_score(y_used,hypothesis_fn)\n",
    "b"
   ]
  },
  {
   "cell_type": "code",
   "execution_count": 15,
   "id": "3cdaefa6",
   "metadata": {},
   "outputs": [
    {
     "data": {
      "text/plain": [
       "[<matplotlib.lines.Line2D at 0x1f36dfeb130>]"
      ]
     },
     "execution_count": 15,
     "metadata": {},
     "output_type": "execute_result"
    },
    {
     "data": {
      "image/png": "[encoded data removed]",
      "text/plain": [
       "<Figure size 432x288 with 1 Axes>"
      ]
     },
     "metadata": {
      "needs_background": "light"
     },
     "output_type": "display_data"
    }
   ],
   "source": [
    "plt.title('cost_fn accross epochs')\n",
    "plt.xlabel('epochs')\n",
    "plt.ylabel('cost_fn')\n",
    "plt.plot(iter_list,losses)"
   ]
  },
  {
   "cell_type": "markdown",
   "id": "b94eb366",
   "metadata": {},
   "source": [
    "# Minibatch gradient descent(multi variable) "
   ]
  },
  {
   "cell_type": "code",
   "execution_count": 10,
   "id": "09070d14",
   "metadata": {},
   "outputs": [],
   "source": [
    "def Multi_mini_batch_gradient_descent(df,epochs,batch_size ,learning_rate):\n",
    "    X_updated=X_used.shape[1]\n",
    "    theta=np.zeros((X_updated,1))\n",
    "    #y_true=X_new[:,X_updated].reshape((-1,1))\n",
    "    theta_arr=[]\n",
    "    hyp=[]\n",
    "    loss=[]\n",
    "    iter_list=[]\n",
    "    total_samples =len(X_used)     \n",
    "    \n",
    "    for i in range(epochs):\n",
    "        #random_indices=np.random.shuffle(X_used)#------------------------->shuffle the data\n",
    "        random_indices=np.random.permutation(total_samples)\n",
    "        X_tmp = X_used[random_indices]\n",
    "        y_tmp = y_used[random_indices]\n",
    "        \n",
    "        for j in range(0,total_samples,batch_size):\n",
    "            Xj = X_tmp[j:j+batch_size]\n",
    "            yj = y_tmp[j:j+batch_size]\n",
    "            hypothesis_fn=X_used@theta\n",
    "            hyp.append(hypothesis_fn)\n",
    "            error=hypothesis_fn-y_used\n",
    "            loss_fn=np.dot(np.transpose(error),error)*1/(2*len(X_used))\n",
    "            loss.append(loss_fn[0,0])\n",
    "            gradient=(X_used.T@error)*(1/len(X_used))\n",
    "            theta=theta-(learning_rate*gradient)\n",
    "            theta_arr.append(theta) \n",
    "            iter_list.append(i)\n",
    "                \n",
    "            \n",
    "\n",
    "        \n",
    "    #return (f' hypothesis={hyp},thta_1={slopes},theta_0={bias},cost_fn={loss},num_iterations={itere}')\n",
    "    return theta,iter_list,loss,hypothesis_fn,y_used"
   ]
  },
  {
   "cell_type": "code",
   "execution_count": 15,
   "id": "81c256b9",
   "metadata": {},
   "outputs": [],
   "source": [
    "theta,iter_list,loss,hypothesis_fn,y_used=Multi_mini_batch_gradient_descent(df1,100,10,0.00001)"
   ]
  },
  {
   "cell_type": "code",
   "execution_count": 16,
   "id": "a7b401cc",
   "metadata": {},
   "outputs": [
    {
     "data": {
      "text/plain": [
       "array([[0.00821035],\n",
       "       [0.65547882],\n",
       "       [0.65770531],\n",
       "       [0.71146074]])"
      ]
     },
     "execution_count": 16,
     "metadata": {},
     "output_type": "execute_result"
    }
   ],
   "source": [
    "theta"
   ]
  },
  {
   "cell_type": "code",
   "execution_count": 17,
   "id": "92e49f60",
   "metadata": {},
   "outputs": [
    {
     "data": {
      "text/plain": [
       "0.9799309238608654"
      ]
     },
     "execution_count": 17,
     "metadata": {},
     "output_type": "execute_result"
    }
   ],
   "source": [
    "b=r2_score(y_used,hypothesis_fn)\n",
    "b"
   ]
  },
  {
   "cell_type": "code",
   "execution_count": 18,
   "id": "739b87e7",
   "metadata": {},
   "outputs": [
    {
     "data": {
      "text/plain": [
       "[<matplotlib.lines.Line2D at 0x1c4f816c370>]"
      ]
     },
     "execution_count": 18,
     "metadata": {},
     "output_type": "execute_result"
    },
    {
     "data": {
      "image/png": "[encoded data removed]",
      "text/plain": [
       "<Figure size 432x288 with 1 Axes>"
      ]
     },
     "metadata": {
      "needs_background": "light"
     },
     "output_type": "display_data"
    }
   ],
   "source": [
    "plt.title('cost_fn accross epochs')\n",
    "plt.xlabel('epochs')\n",
    "plt.ylabel('cost_fn')\n",
    "plt.plot(iter_list,loss)"
   ]
  },
  {
   "cell_type": "markdown",
   "id": "b5d05610",
   "metadata": {},
   "source": [
    "# Stochastic gradient descent(multi variable)"
   ]
  },
  {
   "cell_type": "code",
   "execution_count": 21,
   "id": "13ca91ec",
   "metadata": {},
   "outputs": [],
   "source": [
    "def Multi_stochastic_gradient_descent(df,epochs, learning_rate):\n",
    "    X_updated=X_used.shape[1]\n",
    "    theta=np.zeros((X_updated,1))\n",
    "    #y_true=X_new[:,X_updated].reshape((-1,1))\n",
    "    theta_arr=[]\n",
    "    hyp=[]\n",
    "    loss=[]\n",
    "    iter_list=[]\n",
    "    total_samples =len(X_used) \n",
    "    for i in range(epochs):    \n",
    "        random_index = np.random.randint(0,total_samples-1) # random index from total samples\n",
    "        sample_x = X_used[random_index]\n",
    "        sample_y = y_used[random_index]\n",
    "        \n",
    "        hypothesis_fn=X_used@theta\n",
    "        hyp.append(hypothesis_fn)\n",
    "        error=hypothesis_fn-y_used\n",
    "        loss_fn=np.dot(np.transpose(error),error)*1/(2*len(X_used))\n",
    "        loss.append(loss_fn[0,0])\n",
    "        gradient=(X_used.T@error)*(1/len(X_used))\n",
    "        theta=theta-(learning_rate*gradient)\n",
    "        theta_arr.append(theta) \n",
    "        iter_list.append(i)\n",
    "        \n",
    "    return theta,iter_list,loss,hypothesis_fn,y_used\n"
   ]
  },
  {
   "cell_type": "code",
   "execution_count": 22,
   "id": "763cdbf1",
   "metadata": {},
   "outputs": [],
   "source": [
    "theta,iter_list,loss,hypothesis_fn,y_used=Multi_stochastic_gradient_descent(df1,1000,0.00001)"
   ]
  },
  {
   "cell_type": "code",
   "execution_count": 23,
   "id": "a550cc62",
   "metadata": {},
   "outputs": [
    {
     "data": {
      "text/plain": [
       "array([[0.00803216],\n",
       "       [0.62939475],\n",
       "       [0.63030113],\n",
       "       [0.76359252]])"
      ]
     },
     "execution_count": 23,
     "metadata": {},
     "output_type": "execute_result"
    }
   ],
   "source": [
    "theta"
   ]
  },
  {
   "cell_type": "code",
   "execution_count": 24,
   "id": "a9aa1e85",
   "metadata": {},
   "outputs": [
    {
     "data": {
      "text/plain": [
       "0.9820712656233086"
      ]
     },
     "execution_count": 24,
     "metadata": {},
     "output_type": "execute_result"
    }
   ],
   "source": [
    "b=r2_score(y_used,hypothesis_fn)\n",
    "b"
   ]
  },
  {
   "cell_type": "code",
   "execution_count": 25,
   "id": "cb86b6cc",
   "metadata": {},
   "outputs": [
    {
     "data": {
      "text/plain": [
       "[<matplotlib.lines.Line2D at 0x1f36e776730>]"
      ]
     },
     "execution_count": 25,
     "metadata": {},
     "output_type": "execute_result"
    },
    {
     "data": {
      "image/png": "[encoded data removed]",
      "text/plain": [
       "<Figure size 432x288 with 1 Axes>"
      ]
     },
     "metadata": {
      "needs_background": "light"
     },
     "output_type": "display_data"
    }
   ],
   "source": [
    "plt.title('cost_fn accross epochs')\n",
    "plt.xlabel('epochs')\n",
    "plt.ylabel('cost_fn')\n",
    "plt.plot(iter_list,loss)"
   ]
  },
  {
   "cell_type": "markdown",
   "id": "adb4ea39",
   "metadata": {},
   "source": [
    "# Momentum GD(multivariable)"
   ]
  },
  {
   "cell_type": "code",
   "execution_count": 26,
   "id": "eba73eb8",
   "metadata": {},
   "outputs": [],
   "source": [
    "def Multi_momentum_gradient_descent(df, epochs,learning_parameter,gamma):\n",
    "    X_updated=X_used.shape[1]\n",
    "    theta=np.zeros((X_updated,1))\n",
    "    #y_true=X_new[:,X_updated].reshape((-1,1))\n",
    "    theta_arr=[]\n",
    "    hyp=[]\n",
    "    loss=[]\n",
    "    iter_list=[]\n",
    "    new_change_of_theta=0\n",
    "    for i in range(epochs):\n",
    "        hypothesis_fn=X_used@theta\n",
    "        hyp.append(hypothesis_fn)\n",
    "        error=hypothesis_fn-y_used\n",
    "        loss_fn=np.dot(np.transpose(error),error)*1/(2*len(X_used))\n",
    "        loss.append(loss_fn[0,0])\n",
    "        gradient=(X_used.T@error)*(1/len(X_used))\n",
    "        new_change_of_theta=(gamma *new_change_of_theta)+(learning_parameter*gradient)\n",
    "        theta = theta - new_change_of_theta\n",
    "        theta_arr.append(theta) \n",
    "        iter_list.append(i)\n",
    "\n",
    "\n",
    "    return theta,iter_list,loss,hypothesis_fn,y_used"
   ]
  },
  {
   "cell_type": "code",
   "execution_count": 27,
   "id": "50c8f970",
   "metadata": {},
   "outputs": [],
   "source": [
    "theta,iter_list,loss,hypothesis_fn,y_used=Multi_momentum_gradient_descent(df1,100,0.00001,0.9)"
   ]
  },
  {
   "cell_type": "code",
   "execution_count": 28,
   "id": "fa104043",
   "metadata": {},
   "outputs": [
    {
     "data": {
      "text/plain": [
       "array([[0.00807011],\n",
       "       [0.63259494],\n",
       "       [0.63314582],\n",
       "       [0.7587118 ]])"
      ]
     },
     "execution_count": 28,
     "metadata": {},
     "output_type": "execute_result"
    }
   ],
   "source": [
    "theta"
   ]
  },
  {
   "cell_type": "code",
   "execution_count": 29,
   "id": "fba61b18",
   "metadata": {},
   "outputs": [
    {
     "data": {
      "text/plain": [
       "0.9816683783700165"
      ]
     },
     "execution_count": 29,
     "metadata": {},
     "output_type": "execute_result"
    }
   ],
   "source": [
    "b=r2_score(y_used,hypothesis_fn)\n",
    "b"
   ]
  },
  {
   "cell_type": "code",
   "execution_count": 30,
   "id": "8461adb8",
   "metadata": {},
   "outputs": [
    {
     "data": {
      "text/plain": [
       "[<matplotlib.lines.Line2D at 0x1f36e7cba90>]"
      ]
     },
     "execution_count": 30,
     "metadata": {},
     "output_type": "execute_result"
    },
    {
     "data": {
      "image/png": "[encoded data removed]",
      "text/plain": [
       "<Figure size 432x288 with 1 Axes>"
      ]
     },
     "metadata": {
      "needs_background": "light"
     },
     "output_type": "display_data"
    }
   ],
   "source": [
    "plt.title('cost_fn accross epochs')\n",
    "plt.xlabel('epochs')\n",
    "plt.ylabel('cost_fn')\n",
    "plt.plot(iter_list,loss)"
   ]
  },
  {
   "cell_type": "markdown",
   "id": "093b62e4",
   "metadata": {},
   "source": [
    "# NAG GD(multi variable)"
   ]
  },
  {
   "cell_type": "code",
   "execution_count": 31,
   "id": "29e7e529",
   "metadata": {},
   "outputs": [],
   "source": [
    "def Multi_NAG_gradient_descent(df,epochs,learning_parameter,gamma):\n",
    "    X_updated=X_used.shape[1]\n",
    "    theta=np.zeros((X_updated,1))\n",
    "    vt_=np.zeros((X_updated,1))\n",
    "    theta_arr=[]\n",
    "    hyp=[]\n",
    "    loss=[]\n",
    "    iter_list=[]\n",
    "    for i in range(epochs):\n",
    "        hypothesis_fn=X_used@theta\n",
    "        hyp.append(hypothesis_fn)\n",
    "        error=hypothesis_fn-y_used\n",
    "        loss_fn=np.dot(np.transpose(error),error)*1/(2*len(X_used))\n",
    "        loss.append(loss_fn[0,0])\n",
    "        gradient_theta=1/len(X_used)*(np.dot(np.transpose(X_used),error))\n",
    "        temp=theta-(gamma*vt_)\n",
    "        hypothesis_fn_temp=X_used@temp\n",
    "        error_temp=hypothesis_fn_temp-y_used\n",
    "        gradient_theta_temp=1/len(X_used)*(np.dot(np.transpose(X_used),error_temp))\n",
    "        theta=temp-(learning_parameter*gradient_theta_temp)\n",
    "        vt_=(gamma *vt_)+(learning_parameter*gradient_theta_temp)\n",
    "        theta_arr.append(theta)\n",
    "        iter_list.append(i)\n",
    "        \n",
    "  \n",
    "        \n",
    "    return theta,iter_list,loss,hypothesis_fn"
   ]
  },
  {
   "cell_type": "code",
   "execution_count": 32,
   "id": "f8bdc8a8",
   "metadata": {},
   "outputs": [],
   "source": [
    "theta,iter_list,loss,hypothesis_fn=Multi_NAG_gradient_descent(data,100,0.00001,0.9)"
   ]
  },
  {
   "cell_type": "code",
   "execution_count": 33,
   "id": "36e2f83f",
   "metadata": {},
   "outputs": [
    {
     "data": {
      "text/plain": [
       "array([[0.00806511],\n",
       "       [0.63229272],\n",
       "       [0.63288103],\n",
       "       [0.7582546 ]])"
      ]
     },
     "execution_count": 33,
     "metadata": {},
     "output_type": "execute_result"
    }
   ],
   "source": [
    "theta"
   ]
  },
  {
   "cell_type": "code",
   "execution_count": 34,
   "id": "7ca4662f",
   "metadata": {},
   "outputs": [
    {
     "data": {
      "text/plain": [
       "0.9818409811885168"
      ]
     },
     "execution_count": 34,
     "metadata": {},
     "output_type": "execute_result"
    }
   ],
   "source": [
    "b=r2_score(y_used,hypothesis_fn)\n",
    "b"
   ]
  },
  {
   "cell_type": "code",
   "execution_count": 35,
   "id": "e1b210b0",
   "metadata": {},
   "outputs": [
    {
     "data": {
      "text/plain": [
       "[<matplotlib.lines.Line2D at 0x1f36e82bdc0>]"
      ]
     },
     "execution_count": 35,
     "metadata": {},
     "output_type": "execute_result"
    },
    {
     "data": {
      "image/png": "[encoded data removed]",
      "text/plain": [
       "<Figure size 432x288 with 1 Axes>"
      ]
     },
     "metadata": {
      "needs_background": "light"
     },
     "output_type": "display_data"
    }
   ],
   "source": [
    "plt.title('cost_fn accross epochs')\n",
    "plt.xlabel('epochs')\n",
    "plt.ylabel('cost_fn')\n",
    "plt.plot(iter_list,loss)"
   ]
  },
  {
   "cell_type": "markdown",
   "id": "996edbba",
   "metadata": {},
   "source": [
    "# Adagrad(multi variable)"
   ]
  },
  {
   "cell_type": "code",
   "execution_count": 36,
   "id": "3d0be875",
   "metadata": {},
   "outputs": [],
   "source": [
    "def Multi_Adagrad_fn(df,epochs,learning_parameter,epsilon):\n",
    "    X_updated=X_used.shape[1]\n",
    "    theta=np.zeros((X_updated,1))\n",
    "    vt_=np.zeros((X_updated,1))\n",
    "    #y_true=X_new[:,X_updated].reshape((-1,1))\n",
    "    theta_arr=[]\n",
    "    hyp=[]\n",
    "    loss=[]\n",
    "    iter_list=[] \n",
    "    for i in range(epochs):\n",
    "        hypothesis_fn=X_used@theta\n",
    "        hyp.append(hypothesis_fn)\n",
    "        error=hypothesis_fn-y_used\n",
    "        loss_fn=np.dot(np.transpose(error),error)*1/(2*len(X_used))\n",
    "        loss.append(loss_fn[0,0])\n",
    "        gradient_theta=1/((len(X_used)))*(np.dot(np.transpose(X_used),error)) \n",
    "        vt_=vt_+(gradient_theta**2)\n",
    "        theta=theta-(gradient_theta*((learning_parameter/(np.sqrt(vt_))+epsilon)))\n",
    "        theta_arr.append(theta)\n",
    "        iter_list.append(i)\n",
    "    return theta,iter_list,loss,hypothesis_fn,y_used"
   ]
  },
  {
   "cell_type": "code",
   "execution_count": 37,
   "id": "c1e8a4f8",
   "metadata": {},
   "outputs": [],
   "source": [
    "theta,iter_list,loss,hypothesis_fn,y_used=Multi_Adagrad_fn(df1,100,0.1,1e-9)"
   ]
  },
  {
   "cell_type": "code",
   "execution_count": 38,
   "id": "ae588c0f",
   "metadata": {},
   "outputs": [
    {
     "data": {
      "text/plain": [
       "array([[0.67103675],\n",
       "       [0.67072387],\n",
       "       [0.67056906],\n",
       "       [0.67410811]])"
      ]
     },
     "execution_count": 38,
     "metadata": {},
     "output_type": "execute_result"
    }
   ],
   "source": [
    "theta"
   ]
  },
  {
   "cell_type": "code",
   "execution_count": 39,
   "id": "340c4c97",
   "metadata": {},
   "outputs": [
    {
     "data": {
      "text/plain": [
       "0.9782721800056021"
      ]
     },
     "execution_count": 39,
     "metadata": {},
     "output_type": "execute_result"
    }
   ],
   "source": [
    "b=r2_score(y_used,hypothesis_fn)\n",
    "b"
   ]
  },
  {
   "cell_type": "code",
   "execution_count": 40,
   "id": "aed902f8",
   "metadata": {},
   "outputs": [
    {
     "data": {
      "text/plain": [
       "[<matplotlib.lines.Line2D at 0x1f36e894220>]"
      ]
     },
     "execution_count": 40,
     "metadata": {},
     "output_type": "execute_result"
    },
    {
     "data": {
      "image/png": "[encoded data removed]",
      "text/plain": [
       "<Figure size 432x288 with 1 Axes>"
      ]
     },
     "metadata": {
      "needs_background": "light"
     },
     "output_type": "display_data"
    }
   ],
   "source": [
    "plt.title('cost_fn accross epochs')\n",
    "plt.xlabel('epochs')\n",
    "plt.ylabel('cost_fn')\n",
    "plt.plot(iter_list,loss)"
   ]
  },
  {
   "cell_type": "markdown",
   "id": "13c131aa",
   "metadata": {},
   "source": [
    "# Rmsprop(multi variable)"
   ]
  },
  {
   "cell_type": "code",
   "execution_count": 41,
   "id": "8b4275fa",
   "metadata": {},
   "outputs": [],
   "source": [
    "def Multi_Rmsprop_fn(df,epochs,learning_parameter,beta,epsilon):\n",
    "    X_updated=X_used.shape[1]\n",
    "    theta=np.zeros((X_updated,1))\n",
    "    vt_=np.zeros((X_updated,1))\n",
    "    #y_true=X_new[:,X_updated].reshape((-1,1))\n",
    "    theta_arr=[]\n",
    "    hyp=[]\n",
    "    loss=[]\n",
    "    iter_list=[]\n",
    "    for i in range(epochs):\n",
    "        hypothesis_fn=X_used@theta\n",
    "        hyp.append(hypothesis_fn)\n",
    "        error=hypothesis_fn-y_used\n",
    "        loss_fn=np.dot(np.transpose(error),error)*1/(2*len(X_used))\n",
    "        loss.append(loss_fn[0,0])\n",
    "        gradient_theta=1/((len(X_used)))*(np.dot(np.transpose(X_used),error))  \n",
    "        vt_=(beta*vt_)+((1-beta)*(gradient_theta**2))\n",
    "        theta=theta-(gradient_theta*((learning_parameter/(np.sqrt(vt_))+epsilon)))\n",
    "        theta_arr.append(theta)\n",
    "        iter_list.append(i)\n",
    "\n",
    "    return theta,iter_list,loss,hypothesis_fn,y_used"
   ]
  },
  {
   "cell_type": "code",
   "execution_count": 42,
   "id": "3d79cf63",
   "metadata": {},
   "outputs": [],
   "source": [
    "theta,iter_list,loss,hypothesis_fn,y_used=Multi_Rmsprop_fn(df1,1000,0.001,.9,1e-10)"
   ]
  },
  {
   "cell_type": "code",
   "execution_count": null,
   "id": "98ad742d",
   "metadata": {},
   "outputs": [],
   "source": [
    "theta"
   ]
  },
  {
   "cell_type": "code",
   "execution_count": null,
   "id": "21db150a",
   "metadata": {},
   "outputs": [],
   "source": [
    "b=r2_score(y_used,hypothesis_fn)\n",
    "b"
   ]
  },
  {
   "cell_type": "code",
   "execution_count": null,
   "id": "81819a6b",
   "metadata": {},
   "outputs": [],
   "source": [
    "plt.title('cost_fn accross epochs')\n",
    "plt.xlabel('epochs')\n",
    "plt.ylabel('cost_fn')\n",
    "plt.plot(iter_list,loss)"
   ]
  },
  {
   "cell_type": "markdown",
   "id": "53efb1f9",
   "metadata": {},
   "source": [
    "# ADAM(multi variable)"
   ]
  },
  {
   "cell_type": "code",
   "execution_count": null,
   "id": "6bc38bdf",
   "metadata": {},
   "outputs": [],
   "source": [
    "def Multi_Adam_fn(df,epochs,learning_parameter,beta,jamma,epsilon):\n",
    "    X_updated=X_used.shape[1]\n",
    "    theta=np.zeros((X_updated,1))\n",
    "    vt_=np.zeros((X_updated,1))\n",
    "    mt_=np.zeros((X_updated,1))\n",
    "    #y_true=X_new[:,X_updated].reshape((-1,1))\n",
    "    theta_arr=[]\n",
    "    hyp=[]\n",
    "    loss=[]\n",
    "    iter_list=[]  \n",
    "    for i in range(epochs):\n",
    "        hypothesis_fn=X_used@theta\n",
    "        hyp.append(hypothesis_fn)\n",
    "        error=hypothesis_fn-y_used\n",
    "        loss_fn=np.dot(np.transpose(error),error)*1/(2*len(X_used))\n",
    "        loss.append(loss_fn[0,0])\n",
    "        gradient_theta=1/((len(X_used)))*(np.dot(np.transpose(X_used),error)) \n",
    "        mt_=(jamma*mt_)+((1-jamma)*(gradient_theta))\n",
    "        vt_=(beta*vt_)+((1-beta)*(gradient_theta**2))\n",
    "        theta=theta-(mt_*((learning_parameter/(np.sqrt(vt_))+epsilon)))\n",
    "        theta_arr.append(theta)\n",
    "        iter_list.append(i)\n",
    "\n",
    "    return theta,iter_list,loss,hypothesis_fn,y_used"
   ]
  },
  {
   "cell_type": "code",
   "execution_count": null,
   "id": "d9c7dfbd",
   "metadata": {},
   "outputs": [],
   "source": [
    "theta,iter_list,loss,hypothesis_fn,y_used=Multi_Adam_fn(df1,1000,0.01,0.1,0.1,1e-10)"
   ]
  },
  {
   "cell_type": "code",
   "execution_count": null,
   "id": "b4c2975f",
   "metadata": {},
   "outputs": [],
   "source": [
    "theta"
   ]
  },
  {
   "cell_type": "code",
   "execution_count": null,
   "id": "17496363",
   "metadata": {},
   "outputs": [],
   "source": [
    "b=r2_score(y_used,hypothesis_fn)\n",
    "b"
   ]
  },
  {
   "cell_type": "code",
   "execution_count": null,
   "id": "2650d18f",
   "metadata": {},
   "outputs": [],
   "source": [
    "plt.title('cost_fn accross epochs')\n",
    "plt.xlabel('epochs')\n",
    "plt.ylabel('cost_fn')\n",
    "plt.plot(iter_list,loss)"
   ]
  },
  {
   "cell_type": "markdown",
   "id": "9030211a",
   "metadata": {},
   "source": [
    "# ADAM with mini batch(multi variable)"
   ]
  },
  {
   "cell_type": "code",
   "execution_count": null,
   "id": "5cc40c54",
   "metadata": {},
   "outputs": [],
   "source": [
    "def Multi_Adam_fn_mini_batch(df,epochs,batch_size,learning_parameter,beta,jamma,epsilon):\n",
    "    X_updated=X_used.shape[1]\n",
    "    theta=np.zeros((X_updated,1))\n",
    "    vt_=np.zeros((X_updated,1))\n",
    "    mt_=np.zeros((X_updated,1))\n",
    "    #y_true=X_new[:,X_updated].reshape((-1,1))\n",
    "    theta_arr=[]\n",
    "    hyp=[]\n",
    "    loss=[]\n",
    "    iter_list=[]\n",
    "    total_samples =len(X_used)     \n",
    "    \n",
    "    for i in range(epochs): \n",
    "        random_indices=np.random.permutation(total_samples-2)\n",
    "        X_tmp = X_used[random_indices]\n",
    "        y_tmp = y_used[random_indices]\n",
    "        \n",
    "        for j in range(0,total_samples,batch_size):\n",
    "            Xj = X_tmp[j:j+batch_size]\n",
    "            yj = y_tmp[j:j+batch_size]\n",
    "            hypothesis_fn=X_used@theta\n",
    "            hyp.append(hypothesis_fn)\n",
    "            error=hypothesis_fn-y_used\n",
    "            loss_fn=np.dot(np.transpose(error),error)*1/(2*len(X_used))\n",
    "            loss.append(loss_fn[0,0])\n",
    "            gradient_theta=1/((len(X_used)))*(np.dot(np.transpose(X_used),error)) \n",
    "            mt_=(jamma*mt_)+((1-jamma)*(gradient_theta))\n",
    "            vt_=(beta*vt_)+((1-beta)*(gradient_theta**2))\n",
    "            theta=theta-((learning_parameter*mt_/(np.sqrt(vt_)+epsilon)))\n",
    "            theta_arr.append(theta)\n",
    "            iter_list.append(i)\n",
    "\n",
    "    return theta,iter_list,loss,hypothesis_fn,y_used"
   ]
  },
  {
   "cell_type": "code",
   "execution_count": null,
   "id": "fab5fab7",
   "metadata": {},
   "outputs": [],
   "source": [
    "theta,iter_list,loss,hypothesis_fn,y_used=Multi_Adam_fn_mini_batch(df1,100,20,0.1,0.9999,0.5,1e-9)"
   ]
  },
  {
   "cell_type": "code",
   "execution_count": null,
   "id": "f9eefc1b",
   "metadata": {},
   "outputs": [],
   "source": [
    "theta"
   ]
  },
  {
   "cell_type": "code",
   "execution_count": null,
   "id": "608412fb",
   "metadata": {},
   "outputs": [],
   "source": [
    "b=r2_score(y_used,hypothesis_fn)\n",
    "b"
   ]
  },
  {
   "cell_type": "code",
   "execution_count": null,
   "id": "e547eb56",
   "metadata": {},
   "outputs": [],
   "source": [
    "plt.title('cost_fn accross epochs')\n",
    "plt.xlabel('epochs')\n",
    "plt.ylabel('cost_fn')\n",
    "plt.plot(iter_list,loss)"
   ]
  },
  {
   "cell_type": "code",
   "execution_count": null,
   "id": "4a8b041a",
   "metadata": {},
   "outputs": [],
   "source": [
    "x1=iter_list\n",
    "y1=losses\n",
    "plt.plot(x1,y1,label='batch')\n",
    "x2=iter_list\n",
    "y2=loss\n",
    "plt.plot(x2,y2,label='stochastic')\n",
    "plt.legend()\n",
    "plt.show()\n"
   ]
  },
  {
   "cell_type": "code",
   "execution_count": null,
   "id": "7e449b18",
   "metadata": {},
   "outputs": [],
   "source": []
  }
 ],
 "metadata": {
  "kernelspec": {
   "display_name": "Python 3",
   "language": "python",
   "name": "python3"
  },
  "language_info": {
   "codemirror_mode": {
    "name": "ipython",
    "version": 3
   },
   "file_extension": ".py",
   "mimetype": "text/x-python",
   "name": "python",
   "nbconvert_exporter": "python",
   "pygments_lexer": "ipython3",
   "version": "3.8.8"
  }
 },
 "nbformat": 4,
 "nbformat_minor": 5
}
